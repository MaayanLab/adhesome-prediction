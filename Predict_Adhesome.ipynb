{
 "cells": [
  {
   "cell_type": "code",
   "execution_count": 1,
   "metadata": {
    "collapsed": false
   },
   "outputs": [
    {
     "name": "stderr",
     "output_type": "stream",
     "text": [
      "/Library/Python/2.7/site-packages/IPython/html.py:14: ShimWarning: The `IPython.html` package has been deprecated. You should import from `notebook` instead. `IPython.html.widgets` has moved to `ipywidgets`.\n",
      "  \"`IPython.html.widgets` has moved to `ipywidgets`.\", ShimWarning)\n"
     ]
    }
   ],
   "source": [
    "import os, sys, csv, gzip\n",
    "import numpy as np\n",
    "import pandas as pd\n",
    "import scipy.sparse as sp\n",
    "from scipy import io\n",
    "\n",
    "import matplotlib.pyplot as plt\n",
    "from matplotlib import rcParams\n",
    "rcParams['pdf.fonttype'] = 42 ## Output Type 3 (Type3) or Type 42 (TrueType)\n",
    "rcParams['font.sans-serif'] = 'Arial'\n",
    "sys.path.append('/Users/zichen/Documents/bitbucket/maayanlab_utils')\n",
    "from plots import COLORS10, enlarge_tick_fontsize\n",
    "import seaborn as sns\n",
    "sns.set_style('whitegrid')\n",
    "\n",
    "from sklearn.cross_validation import (StratifiedKFold, cross_val_score)\n",
    "from sklearn.metrics import *\n",
    "from sklearn.decomposition import TruncatedSVD\n",
    "from sklearn import ensemble\n",
    "from sklearn.pipeline import Pipeline\n",
    "import xgboost as xgb"
   ]
  },
  {
   "cell_type": "markdown",
   "metadata": {},
   "source": [
    "# 1. Prepare the gene/feature attribute matrices and target class to for supervised machine learning\n",
    "\n",
    "Load known Adhesome components from file"
   ]
  },
  {
   "cell_type": "code",
   "execution_count": 2,
   "metadata": {
    "collapsed": false
   },
   "outputs": [
    {
     "name": "stdout",
     "output_type": "stream",
     "text": [
      "(232, 7)\n"
     ]
    },
    {
     "data": {
      "text/html": [
       "<div style=\"max-height:1000px;max-width:1500px;overflow:auto;\">\n",
       "<table border=\"1\" class=\"dataframe\">\n",
       "  <thead>\n",
       "    <tr style=\"text-align: right;\">\n",
       "      <th></th>\n",
       "      <th>Official Symbol</th>\n",
       "      <th>Gene ID</th>\n",
       "      <th>Protein name</th>\n",
       "      <th>Swiss-Prot ID</th>\n",
       "      <th>Synonyms</th>\n",
       "      <th>Functional Category</th>\n",
       "      <th>FA</th>\n",
       "    </tr>\n",
       "  </thead>\n",
       "  <tbody>\n",
       "    <tr>\n",
       "      <th>0</th>\n",
       "      <td>ACTN1</td>\n",
       "      <td>87</td>\n",
       "      <td>Actinin</td>\n",
       "      <td>P12814</td>\n",
       "      <td>alpha-actinin</td>\n",
       "      <td>Actin regulation</td>\n",
       "      <td>Intrinsic Proteins</td>\n",
       "    </tr>\n",
       "    <tr>\n",
       "      <th>1</th>\n",
       "      <td>CFL1</td>\n",
       "      <td>1072</td>\n",
       "      <td>cofilin</td>\n",
       "      <td>P23528</td>\n",
       "      <td>CFL</td>\n",
       "      <td>Actin regulation</td>\n",
       "      <td>Intrinsic Proteins</td>\n",
       "    </tr>\n",
       "    <tr>\n",
       "      <th>2</th>\n",
       "      <td>CORO1B</td>\n",
       "      <td>57175</td>\n",
       "      <td>coronin 1B</td>\n",
       "      <td>Q9BR76</td>\n",
       "      <td>coronin-2</td>\n",
       "      <td>Actin regulation</td>\n",
       "      <td>Intrinsic Proteins</td>\n",
       "    </tr>\n",
       "    <tr>\n",
       "      <th>3</th>\n",
       "      <td>CTTN</td>\n",
       "      <td>2017</td>\n",
       "      <td>Cortactin</td>\n",
       "      <td>Q14247</td>\n",
       "      <td>EMS1, Amplaxin</td>\n",
       "      <td>Actin regulation</td>\n",
       "      <td>Intrinsic Proteins</td>\n",
       "    </tr>\n",
       "    <tr>\n",
       "      <th>4</th>\n",
       "      <td>FLNA</td>\n",
       "      <td>2316</td>\n",
       "      <td>Filamin</td>\n",
       "      <td>P21333</td>\n",
       "      <td>endothelial actin-binding protein, ABP-280, al...</td>\n",
       "      <td>Actin regulation</td>\n",
       "      <td>Intrinsic Proteins</td>\n",
       "    </tr>\n",
       "  </tbody>\n",
       "</table>\n",
       "</div>"
      ],
      "text/plain": [
       "  Official Symbol Gene ID Protein name Swiss-Prot ID  \\\n",
       "0           ACTN1      87      Actinin        P12814   \n",
       "1            CFL1    1072      cofilin        P23528   \n",
       "2          CORO1B   57175   coronin 1B        Q9BR76   \n",
       "3            CTTN    2017    Cortactin        Q14247   \n",
       "4            FLNA    2316      Filamin        P21333   \n",
       "\n",
       "                                            Synonyms Functional Category  \\\n",
       "0                                      alpha-actinin    Actin regulation   \n",
       "1                                                CFL    Actin regulation   \n",
       "2                                          coronin-2    Actin regulation   \n",
       "3                                     EMS1, Amplaxin    Actin regulation   \n",
       "4  endothelial actin-binding protein, ABP-280, al...    Actin regulation   \n",
       "\n",
       "                   FA  \n",
       "0  Intrinsic Proteins  \n",
       "1  Intrinsic Proteins  \n",
       "2  Intrinsic Proteins  \n",
       "3  Intrinsic Proteins  \n",
       "4  Intrinsic Proteins  "
      ]
     },
     "execution_count": 2,
     "metadata": {},
     "output_type": "execute_result"
    }
   ],
   "source": [
    "df_labels = pd.read_csv('../data/components.csv')\n",
    "print df_labels.shape\n",
    "df_labels.head()"
   ]
  },
  {
   "cell_type": "markdown",
   "metadata": {},
   "source": [
    "These files below were downloaded from [Harmonizome](http://amp.pharm.mssm.edu/Harmonizome/) as the features for genes to predict whether they are adhesome components. \n",
    "\n",
    "There are two types datasets: continues and binary. Continues datasets were standardized.    "
   ]
  },
  {
   "cell_type": "code",
   "execution_count": 3,
   "metadata": {
    "collapsed": true
   },
   "outputs": [],
   "source": [
    "filenames = [\n",
    "        'InterPro_gene_attribute_matrix.txt.gz', \n",
    "        'ENCODE-TF_gene_attribute_matrix.txt.gz',\n",
    "        'CCLE-GE_gene_attribute_matrix_standardized.txt.gz',\n",
    "        'Allen-adult-brain_gene_attribute_matrix_standardized.txt.gz',\n",
    "        'Allen-dev-brain_gene_attribute_matrix_standardized.txt.gz'\n",
    "    ]\n",
    "basenames = [f.split('_')[0] for f in filenames]\n",
    "are_continues = ['_standardized' in f for f in filenames]"
   ]
  },
  {
   "cell_type": "code",
   "execution_count": 4,
   "metadata": {
    "collapsed": true
   },
   "outputs": [],
   "source": [
    "def read_gene_attribute_matrix(fn):\n",
    "\t'''\n",
    "\tReads a gzipped file downloaded from Harmonizome into a pandas.DataFrame,\n",
    "\twith GeneSym as index. \n",
    "\t'''\n",
    "\twith gzip.open(fn) as f:\n",
    "\t\treader = csv.reader(f, delimiter='\\t')\n",
    "\t\theader = reader.next()\n",
    "\t\theader[0] = 'GeneSym'\n",
    "\t\t# Skip line 2, 3\n",
    "\t\treader.next()\n",
    "\t\treader.next()\n",
    "\n",
    "\t\t# Remove the second and third columns which are meta data for GeneSym\n",
    "\t\theader[1:3] = []\n",
    "\n",
    "\t\ti = 0\n",
    "\t\tdf = []\n",
    "\n",
    "\t\tif '_standardized' in fn: # continues\n",
    "\t\t\tfor row in reader:\n",
    "\t\t\t\trow[1:3] = []\n",
    "\t\t\t\trow[1:] = map(float, row[1:])\n",
    "\t\t\t\tdf.append(dict(zip(header, row)))\n",
    "\t\t\t\ti += 1\n",
    "\t\t\t\tif i % 2000 == 0:\n",
    "\t\t\t\t\tprint i\n",
    "\t\t\tdf = pd.DataFrame().from_records(df)[header]\n",
    "\t\t\tdf.set_index('GeneSym', inplace=True, verify_integrity=True)\n",
    "\t\t\t\t\t\n",
    "\t\telse: # convert values to int and make sparse df\n",
    "\t\t\tfor row in reader:\n",
    "\t\t\t\trow[1:3] = []\n",
    "\t\t\t\trow[1:] = map(lambda x: int(float(x)), row[1:])\n",
    "\n",
    "\t\t\t\td = {h: v for h, v in zip(header, row) if v != 0}\n",
    "\t\t\t\tdf.append(d)\n",
    "\t\t\t\ti += 1\n",
    "\t\t\t\tif i % 2000 == 0:\n",
    "\t\t\t\t\tprint i\n",
    "\t\t\tdf = pd.DataFrame().from_records(df)[header]\\\n",
    "\t\t\t\t.set_index('GeneSym', verify_integrity=True)\\\n",
    "\t\t\t\t.to_sparse(fill_value=0)\n",
    "\t\t\n",
    "\treturn df"
   ]
  },
  {
   "cell_type": "code",
   "execution_count": 5,
   "metadata": {
    "collapsed": false
   },
   "outputs": [
    {
     "name": "stdout",
     "output_type": "stream",
     "text": [
      "2000\n",
      "4000\n",
      "6000\n",
      "8000\n",
      "10000\n",
      "12000\n",
      "14000\n",
      "16000\n",
      "18000\n",
      "InterPro_gene_attribute_matrix.txt.gz (18002, 11015)\n",
      "2000\n",
      "4000\n",
      "6000\n",
      "8000\n",
      "10000\n",
      "12000\n",
      "14000\n",
      "16000\n",
      "18000\n",
      "20000\n",
      "22000\n",
      "ENCODE-TF_gene_attribute_matrix.txt.gz (22845, 1679)\n",
      "2000\n",
      "4000\n",
      "6000\n",
      "8000\n",
      "10000\n",
      "12000\n",
      "14000\n",
      "16000\n",
      "18000\n",
      "CCLE-GE_gene_attribute_matrix_standardized.txt.gz (18046, 1037)\n",
      "2000\n",
      "4000\n",
      "6000\n",
      "8000\n",
      "10000\n",
      "12000\n",
      "14000\n",
      "16000\n",
      "Allen-adult-brain_gene_attribute_matrix_standardized.txt.gz (17979, 414)\n",
      "2000\n",
      "4000\n",
      "6000\n",
      "8000\n",
      "10000\n",
      "12000\n",
      "14000\n",
      "16000\n",
      "Allen-dev-brain_gene_attribute_matrix_standardized.txt.gz (17241, 492)\n"
     ]
    }
   ],
   "source": [
    "## Parse data files downloaded from Harmonizome \n",
    "dfs = []\n",
    "for fn in filenames:\n",
    "    df = read_gene_attribute_matrix('../data/%s' % fn)\n",
    "    print fn, df.shape\n",
    "    dfs.append(df)"
   ]
  },
  {
   "cell_type": "code",
   "execution_count": 6,
   "metadata": {
    "collapsed": false
   },
   "outputs": [
    {
     "name": "stdout",
     "output_type": "stream",
     "text": [
      "(13464, 14637)\n"
     ]
    }
   ],
   "source": [
    "## INNER JOIN all feature dfs \n",
    "df_joined = reduce(lambda a, b: pd.merge(a, b, left_index=True, right_index=True, how='inner'), \n",
    "           dfs)\n",
    "print df_joined.shape"
   ]
  },
  {
   "cell_type": "code",
   "execution_count": 7,
   "metadata": {
    "collapsed": false
   },
   "outputs": [
    {
     "name": "stdout",
     "output_type": "stream",
     "text": [
      "216\n",
      "(13464, 1)\n"
     ]
    },
    {
     "data": {
      "text/html": [
       "<div style=\"max-height:1000px;max-width:1500px;overflow:auto;\">\n",
       "<table border=\"1\" class=\"dataframe\">\n",
       "  <thead>\n",
       "    <tr style=\"text-align: right;\">\n",
       "      <th></th>\n",
       "      <th>y</th>\n",
       "    </tr>\n",
       "    <tr>\n",
       "      <th>GeneSym</th>\n",
       "      <th></th>\n",
       "    </tr>\n",
       "  </thead>\n",
       "  <tbody>\n",
       "    <tr>\n",
       "      <th>NUSAP1</th>\n",
       "      <td>0</td>\n",
       "    </tr>\n",
       "    <tr>\n",
       "      <th>WEE1</th>\n",
       "      <td>0</td>\n",
       "    </tr>\n",
       "    <tr>\n",
       "      <th>BUB1B</th>\n",
       "      <td>0</td>\n",
       "    </tr>\n",
       "    <tr>\n",
       "      <th>ASPM</th>\n",
       "      <td>0</td>\n",
       "    </tr>\n",
       "    <tr>\n",
       "      <th>TTK</th>\n",
       "      <td>0</td>\n",
       "    </tr>\n",
       "  </tbody>\n",
       "</table>\n",
       "</div>"
      ],
      "text/plain": [
       "         y\n",
       "GeneSym   \n",
       "NUSAP1   0\n",
       "WEE1     0\n",
       "BUB1B    0\n",
       "ASPM     0\n",
       "TTK      0"
      ]
     },
     "execution_count": 7,
     "metadata": {},
     "output_type": "execute_result"
    }
   ],
   "source": [
    "## Create y \n",
    "RNG = 2016\n",
    "y = np.in1d(df_joined.index, df_labels['Official Symbol']).astype(np.int8)\n",
    "print y.sum()\n",
    "## Make CV\n",
    "cv = StratifiedKFold(y, n_folds=3, shuffle=True, random_state=RNG)\n",
    "## Export y\n",
    "df_labels = pd.DataFrame({'y': y, 'GeneSym': df_joined.index}).set_index('GeneSym')\n",
    "print df_labels.shape\n",
    "df_labels.to_csv('../data/Adhesomes.csv')\n",
    "df_labels.head()"
   ]
  },
  {
   "cell_type": "code",
   "execution_count": 8,
   "metadata": {
    "collapsed": true
   },
   "outputs": [],
   "source": [
    "## Keep only the shared genes across the 4 datasets\n",
    "dfs = [df.ix[df_joined.index] for df in dfs]"
   ]
  },
  {
   "cell_type": "code",
   "execution_count": 9,
   "metadata": {
    "collapsed": true
   },
   "outputs": [],
   "source": [
    "## Export processed matrices in dfs\n",
    "i = 0\n",
    "for basename, df in zip(basenames, dfs):\n",
    "    if are_continues[i]:\n",
    "        np.save('../data/%s_shared' % basename, df.values)\n",
    "    else: # sparse matrix\n",
    "        io.mmwrite('../data/%s_shared.mtx' % basename, sp.csr_matrix(df.values))\n",
    "    i += 1\n",
    "\n",
    "del df_joined\n",
    "del df"
   ]
  },
  {
   "cell_type": "markdown",
   "metadata": {},
   "source": [
    "# 2. Load preprocessed matrices and perform classifications"
   ]
  },
  {
   "cell_type": "code",
   "execution_count": 14,
   "metadata": {
    "collapsed": false
   },
   "outputs": [
    {
     "name": "stdout",
     "output_type": "stream",
     "text": [
      "Number of known adhesome components: 216\n",
      "Ratio of negative labels over positive labels: 61.3333\n"
     ]
    }
   ],
   "source": [
    "# Load from matrices files generated above\n",
    "Xs = []\n",
    "for i, basename in enumerate(basenames):\n",
    "    if are_continues[i]:\n",
    "        Xs.append(np.load('../data/%s_shared.npy' % basename))\n",
    "    else:\n",
    "        Xs.append(io.mmread('../data/%s_shared.mtx' % basename).tocsr())\n",
    "\n",
    "df_labels = pd.read_csv('../data/Adhesomes.csv')\n",
    "y = df_labels['y'].values\n",
    "ratio = float(np.sum(y == 0)) / np.sum(y==1)\n",
    "print 'Number of known adhesome components: %d' % y.sum()\n",
    "print 'Ratio of negative labels over positive labels: %.4f' % ratio"
   ]
  },
  {
   "cell_type": "markdown",
   "metadata": {},
   "source": [
    "Perform dimentionality reduction using `TruncatedSVD` for all the matrices"
   ]
  },
  {
   "cell_type": "code",
   "execution_count": 15,
   "metadata": {
    "collapsed": true
   },
   "outputs": [],
   "source": [
    "svd = TruncatedSVD(n_components=60, random_state=RNG)\n",
    "Xs = [svd.fit_transform(x) for x in Xs]\n",
    "X_combined = np.hstack(Xs)"
   ]
  },
  {
   "cell_type": "code",
   "execution_count": 16,
   "metadata": {
    "collapsed": true
   },
   "outputs": [],
   "source": [
    "## Helper functions for evaluating classifiers\n",
    "def cross_val_predictions(est, X, y, cv):\n",
    "\t'''to get out-of-sample predictions and scores'''\n",
    "\ty_preds = np.zeros(y.shape)\n",
    "\ty_probas = np.zeros(y.shape)\n",
    "\tfor train_idx, valid_idx in cv:\n",
    "\t\tprint X[train_idx].shape, y[train_idx].shape\n",
    "\t\test.fit(X[train_idx], y[train_idx])\n",
    "\t\ty_preds[valid_idx] = est.predict(X[valid_idx])\n",
    "\t\ty_probas[valid_idx] = est.predict_proba(X[valid_idx])[:,1]\n",
    "\treturn y_preds, y_probas\n",
    "\n",
    "\n",
    "def plot_roc(ests, Xs, y, cv, ax, colors=None, labels=None):\n",
    "\tall_labels = []\n",
    "\ttotal = len(labels)\n",
    "\n",
    "\tif type(ests) == list and type(Xs) != list:\n",
    "\t\ttotal = len(ests)\n",
    "\t\tXs = [Xs]*total\n",
    "\telif type(ests) != list and type(Xs) == list:\n",
    "\t\tests = [ests]*total\n",
    "\t\n",
    "\tfor i in range(total):\n",
    "\t\tX = Xs[i]\n",
    "\t\test = ests[i]\n",
    "\t\t\n",
    "\t\tlabel = labels[i]\n",
    "\t\tcolor = colors[i]\n",
    "\t\tall_labels.extend([label] * len(cv))\n",
    "\n",
    "\t\ty_preds, y_probas = cross_val_predictions(est, X, y, cv)\n",
    "\t\tfpr, tpr, _ = roc_curve(y, y_probas)\n",
    "\t\tscore = auc(fpr, tpr)\n",
    "\t\tax.plot(fpr, tpr, label=label + ' (AUC=%.3f)' % score, color=color, lw=2)\n",
    "\n",
    "\tax.set_xlabel('False Positive Rate', fontsize=16)\n",
    "\tax.set_ylabel('True Positive Rate', fontsize=16)\n",
    "\n",
    "\tenlarge_tick_fontsize(ax, 12)\n",
    "\tax.legend(loc='lower right')\n",
    "\treturn"
   ]
  },
  {
   "cell_type": "markdown",
   "metadata": {},
   "source": [
    "Estimate the number of rounds of boosting using early stopping for a single feature matrix InterPro: The boosting classifier will stop if the validation score does not improve in 50 rounds."
   ]
  },
  {
   "cell_type": "code",
   "execution_count": 17,
   "metadata": {
    "collapsed": false
   },
   "outputs": [
    {
     "name": "stdout",
     "output_type": "stream",
     "text": [
      "[0]\ttrain-auc:0.820459+0.0229896\ttest-auc:0.745151+0.0077069\n",
      "[10]\ttrain-auc:0.93892+0.0027836\ttest-auc:0.841864+0.0117731\n",
      "[20]\ttrain-auc:0.952989+0.0036986\ttest-auc:0.849968+0.00316156\n",
      "[30]\ttrain-auc:0.96102+0.00424137\ttest-auc:0.855808+0.00361613\n",
      "[40]\ttrain-auc:0.966086+0.00261812\ttest-auc:0.8555+0.00428185\n",
      "[50]\ttrain-auc:0.969816+0.0013973\ttest-auc:0.854981+0.00503997\n",
      "[60]\ttrain-auc:0.972845+0.00152091\ttest-auc:0.853563+0.00605039\n",
      "[70]\ttrain-auc:0.975211+0.0018458\ttest-auc:0.852767+0.00601178\n",
      "[80]\ttrain-auc:0.977073+0.00187863\ttest-auc:0.851972+0.00606561\n",
      "    test-auc-mean  test-auc-std  train-auc-mean  train-auc-std\n",
      "35       0.856751      0.002450        0.963063       0.003304\n",
      "36       0.856716      0.003180        0.963542       0.002999\n",
      "37       0.856693      0.002257        0.964056       0.003098\n",
      "38       0.855968      0.001767        0.964853       0.002845\n",
      "39       0.856858      0.004342        0.965392       0.002660\n"
     ]
    }
   ],
   "source": [
    "dtrain = xgb.DMatrix(Xs[0], label=y)\n",
    "\n",
    "param = {\n",
    "    'max_depth':10, 'eta':0.05, 'silent':1, 'objective':'binary:logistic',\n",
    "    'subsample': 0.4, 'colsample_bytree': 0.6,\n",
    "    'min_child_weight': 50,\n",
    "    'scale_pos_weight': ratio,\n",
    "    'nthread': 6\n",
    "}\n",
    "\n",
    "num_round = 5000\n",
    "scores = xgb.cv(param, dtrain, num_round, \n",
    "    folds=cv,\n",
    "    early_stopping_rounds=50,\n",
    "    metrics='auc', seed=RNG,\n",
    "    verbose_eval=10)\n",
    "\n",
    "print scores.tail()\n"
   ]
  },
  {
   "cell_type": "markdown",
   "metadata": {},
   "source": [
    "Estimate the number of rounds of boosting using early stopping for the combined feature matrix."
   ]
  },
  {
   "cell_type": "code",
   "execution_count": 18,
   "metadata": {
    "collapsed": false
   },
   "outputs": [
    {
     "name": "stdout",
     "output_type": "stream",
     "text": [
      "[0]\ttrain-auc:0.81481+0.00187584\ttest-auc:0.72085+0.0264555\n",
      "[10]\ttrain-auc:0.964683+0.00209533\ttest-auc:0.845875+0.0139989\n",
      "[20]\ttrain-auc:0.979513+0.00218351\ttest-auc:0.855574+0.00475015\n",
      "[30]\ttrain-auc:0.987437+0.00264669\ttest-auc:0.857632+0.00750839\n",
      "[40]\ttrain-auc:0.991936+0.00301162\ttest-auc:0.856888+0.00569661\n",
      "[50]\ttrain-auc:0.994006+0.0026162\ttest-auc:0.856431+0.00527264\n",
      "[60]\ttrain-auc:0.99581+0.00202458\ttest-auc:0.854646+0.00611534\n",
      "[70]\ttrain-auc:0.99678+0.00180488\ttest-auc:0.857454+0.00583333\n",
      "[80]\ttrain-auc:0.997784+0.00116644\ttest-auc:0.859574+0.00635607\n",
      "[90]\ttrain-auc:0.998488+0.000746378\ttest-auc:0.86078+0.00654498\n",
      "[100]\ttrain-auc:0.998812+0.000706678\ttest-auc:0.86345+0.00309085\n",
      "[110]\ttrain-auc:0.999146+0.000535133\ttest-auc:0.865704+0.00372815\n",
      "[120]\ttrain-auc:0.999369+0.000407981\ttest-auc:0.865754+0.00513564\n",
      "[130]\ttrain-auc:0.999508+0.00032021\ttest-auc:0.866895+0.00405058\n",
      "[140]\ttrain-auc:0.999609+0.000283679\ttest-auc:0.867821+0.00577482\n",
      "[150]\ttrain-auc:0.999665+0.000224317\ttest-auc:0.868358+0.00396938\n",
      "[160]\ttrain-auc:0.999714+0.000197435\ttest-auc:0.86945+0.00463421\n",
      "[170]\ttrain-auc:0.999764+0.000184588\ttest-auc:0.867881+0.00504133\n",
      "[180]\ttrain-auc:0.99979+0.000183194\ttest-auc:0.865975+0.00461011\n",
      "[190]\ttrain-auc:0.999819+0.000146981\ttest-auc:0.866868+0.00410002\n",
      "[200]\ttrain-auc:0.999842+0.000113291\ttest-auc:0.866867+0.00400328\n",
      "     test-auc-mean  test-auc-std  train-auc-mean  train-auc-std\n",
      "155       0.869587      0.003839        0.999685       0.000215\n",
      "156       0.869491      0.003843        0.999693       0.000212\n",
      "157       0.869433      0.003842        0.999691       0.000223\n",
      "158       0.869687      0.003719        0.999699       0.000208\n",
      "159       0.869809      0.003790        0.999698       0.000210\n"
     ]
    }
   ],
   "source": [
    "dtrain = xgb.DMatrix(X_combined, label=y)\n",
    "\n",
    "param = {\n",
    "    'max_depth':12, 'eta':0.05, 'silent':1, 'objective':'binary:logistic',\n",
    "    'subsample': 0.4, 'colsample_bytree': 0.4,\n",
    "    'min_child_weight': 50,\n",
    "    'scale_pos_weight': ratio,\n",
    "    'nthread': 6\n",
    "}\n",
    "\n",
    "num_round = 5000\n",
    "scores = xgb.cv(param, dtrain, num_round, \n",
    "    folds=cv,\n",
    "    early_stopping_rounds=50,\n",
    "    metrics='auc', seed=RNG,\n",
    "    verbose_eval=10)\n",
    "\n",
    "print scores.tail()\n"
   ]
  },
  {
   "cell_type": "markdown",
   "metadata": {},
   "source": [
    "Plot the ROC curves to evaluate the predictive performance of the GBM classifiers"
   ]
  },
  {
   "cell_type": "code",
   "execution_count": 21,
   "metadata": {
    "collapsed": false
   },
   "outputs": [
    {
     "name": "stdout",
     "output_type": "stream",
     "text": [
      "(8976, 60) (8976,)\n",
      "(8976, 60) (8976,)\n",
      "(8976, 60) (8976,)\n",
      "(8976, 60) (8976,)\n",
      "(8976, 60) (8976,)\n",
      "(8976, 60) (8976,)\n",
      "(8976, 60) (8976,)\n",
      "(8976, 60) (8976,)\n",
      "(8976, 60) (8976,)\n",
      "(8976, 60) (8976,)\n",
      "(8976, 60) (8976,)\n",
      "(8976, 60) (8976,)\n",
      "(8976, 60) (8976,)\n",
      "(8976, 60) (8976,)\n",
      "(8976, 60) (8976,)\n",
      "(8976, 300) (8976,)\n",
      "(8976, 300) (8976,)\n",
      "(8976, 300) (8976,)\n"
     ]
    },
    {
     "data": {
      "image/png": "[encoded data removed]",
      "text/plain": [
       "<matplotlib.figure.Figure at 0x1a11b0290>"
      ]
     },
     "metadata": {},
     "output_type": "display_data"
    }
   ],
   "source": [
    "%matplotlib inline\n",
    "\n",
    "Xs.append(X_combined)\n",
    "basenames.append('Combined')\n",
    "\n",
    "# optimized GBM classifiers\n",
    "xgbc = xgb.XGBClassifier(seed=RNG, n_estimators=39, learning_rate=0.05,\n",
    "    max_depth=10, colsample_bytree=0.6, subsample=0.4, min_child_weight=50,\n",
    "    gamma=0, max_delta_step=0, nthread=6, silent=True, scale_pos_weight=ratio)\n",
    "\n",
    "xgbc2 = xgb.XGBClassifier(seed=RNG, n_estimators=159, learning_rate=0.05,\n",
    "    max_depth=12, colsample_bytree=0.4, subsample=0.4, min_child_weight=50,\n",
    "    gamma=0, max_delta_step=0, nthread=6, silent=True, scale_pos_weight=ratio)\n",
    "\n",
    "clfs = [xgbc] * 5 + [xgbc2]\n",
    "\n",
    "fig, ax = plt.subplots(figsize=(6,6))\n",
    "plot_roc(clfs, Xs, y, cv, ax, colors=COLORS10, labels=basenames)"
   ]
  },
  {
   "cell_type": "markdown",
   "metadata": {},
   "source": [
    "# 3. Apply the GBM classifier to all the datasets to generate predictions "
   ]
  },
  {
   "cell_type": "code",
   "execution_count": 23,
   "metadata": {
    "collapsed": false
   },
   "outputs": [
    {
     "name": "stdout",
     "output_type": "stream",
     "text": [
      "(12117, 300) (12117,)\n",
      "(12117, 300) (12117,)\n",
      "(12117, 300) (12117,)\n",
      "(12117, 300) (12117,)\n",
      "(12117, 300) (12117,)\n",
      "(12117, 300) (12117,)\n",
      "(12118, 300) (12118,)\n",
      "(12118, 300) (12118,)\n",
      "(12119, 300) (12119,)\n",
      "(12119, 300) (12119,)\n"
     ]
    }
   ],
   "source": [
    "xgbc2 = xgb.XGBClassifier(seed=RNG, n_estimators=160, learning_rate=0.05,\n",
    "    max_depth=12, colsample_bytree=0.4, subsample=0.4, min_child_weight=50,\n",
    "    gamma=0, max_delta_step=0, nthread=8, silent=True, scale_pos_weight=ratio)\n",
    "\n",
    "RNG = 20160628\n",
    "\n",
    "cv = StratifiedKFold(y, n_folds=10, shuffle=True, random_state=RNG)\n",
    "\n",
    "## Get out-of-fold predictions\n",
    "y_preds, y_probas = cross_val_predictions(xgbc2, X_combined, y, cv)\n",
    "\n",
    "## Get predictions on training fold\n",
    "xgbc2.fit(X_combined, y)\n",
    "y_probas_on_train = xgbc2.predict_proba(X_combined)[:, 1]\n"
   ]
  },
  {
   "cell_type": "code",
   "execution_count": 24,
   "metadata": {
    "collapsed": false
   },
   "outputs": [
    {
     "data": {
      "text/html": [
       "<div style=\"max-height:1000px;max-width:1500px;overflow:auto;\">\n",
       "<table border=\"1\" class=\"dataframe\">\n",
       "  <thead>\n",
       "    <tr style=\"text-align: right;\">\n",
       "      <th></th>\n",
       "      <th>GeneSym</th>\n",
       "      <th>y</th>\n",
       "      <th>OOF_preds</th>\n",
       "      <th>OOF_probas</th>\n",
       "      <th>train_probas</th>\n",
       "    </tr>\n",
       "  </thead>\n",
       "  <tbody>\n",
       "    <tr>\n",
       "      <th>0</th>\n",
       "      <td>NUSAP1</td>\n",
       "      <td>0</td>\n",
       "      <td>0</td>\n",
       "      <td>0.012673</td>\n",
       "      <td>0.028067</td>\n",
       "    </tr>\n",
       "    <tr>\n",
       "      <th>1</th>\n",
       "      <td>WEE1</td>\n",
       "      <td>0</td>\n",
       "      <td>0</td>\n",
       "      <td>0.027112</td>\n",
       "      <td>0.032241</td>\n",
       "    </tr>\n",
       "    <tr>\n",
       "      <th>2</th>\n",
       "      <td>BUB1B</td>\n",
       "      <td>0</td>\n",
       "      <td>0</td>\n",
       "      <td>0.061524</td>\n",
       "      <td>0.028436</td>\n",
       "    </tr>\n",
       "    <tr>\n",
       "      <th>3</th>\n",
       "      <td>ASPM</td>\n",
       "      <td>0</td>\n",
       "      <td>0</td>\n",
       "      <td>0.040064</td>\n",
       "      <td>0.040263</td>\n",
       "    </tr>\n",
       "    <tr>\n",
       "      <th>4</th>\n",
       "      <td>TTK</td>\n",
       "      <td>0</td>\n",
       "      <td>0</td>\n",
       "      <td>0.021963</td>\n",
       "      <td>0.021281</td>\n",
       "    </tr>\n",
       "  </tbody>\n",
       "</table>\n",
       "</div>"
      ],
      "text/plain": [
       "  GeneSym  y  OOF_preds  OOF_probas  train_probas\n",
       "0  NUSAP1  0          0    0.012673      0.028067\n",
       "1    WEE1  0          0    0.027112      0.032241\n",
       "2   BUB1B  0          0    0.061524      0.028436\n",
       "3    ASPM  0          0    0.040064      0.040263\n",
       "4     TTK  0          0    0.021963      0.021281"
      ]
     },
     "execution_count": 24,
     "metadata": {},
     "output_type": "execute_result"
    }
   ],
   "source": [
    "df_labels['OOF_preds'] = y_preds\n",
    "df_labels['OOF_probas'] = y_probas\n",
    "df_labels['train_probas'] = y_probas_on_train\n",
    "\n",
    "df_labels.head()"
   ]
  },
  {
   "cell_type": "code",
   "execution_count": 25,
   "metadata": {
    "collapsed": true
   },
   "outputs": [],
   "source": [
    "df_labels.to_csv('../XGB160_on_combined_predictions.csv')"
   ]
  }
 ],
 "metadata": {
  "kernelspec": {
   "display_name": "Python 2",
   "language": "python",
   "name": "python2"
  },
  "language_info": {
   "codemirror_mode": {
    "name": "ipython",
    "version": 2
   },
   "file_extension": ".py",
   "mimetype": "text/x-python",
   "name": "python",
   "nbconvert_exporter": "python",
   "pygments_lexer": "ipython2",
   "version": "2.7.6"
  }
 },
 "nbformat": 4,
 "nbformat_minor": 0
}
