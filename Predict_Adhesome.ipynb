{
 "cells": [
  {
   "cell_type": "code",
   "execution_count": 1,
   "metadata": {
    "collapsed": false
   },
   "outputs": [],
   "source": [
    "import os, sys, csv, gzip\n",
    "import numpy as np\n",
    "import pandas as pd\n",
    "import scipy.sparse as sp\n",
    "from scipy import io\n",
    "\n",
    "import matplotlib.pyplot as plt\n",
    "from matplotlib import rcParams\n",
    "rcParams['pdf.fonttype'] = 42 ## Output Type 3 (Type3) or Type 42 (TrueType)\n",
    "rcParams['font.sans-serif'] = 'Arial'\n",
    "%matplotlib inline\n",
    "from plots import COLORS10, enlarge_tick_fontsize\n",
    "import seaborn as sns\n",
    "sns.set_style('whitegrid')\n",
    "\n",
    "from sklearn.cross_validation import (StratifiedKFold, cross_val_score)\n",
    "from sklearn.metrics import *\n",
    "from sklearn.decomposition import TruncatedSVD\n",
    "from sklearn import ensemble\n",
    "from sklearn.pipeline import Pipeline\n",
    "import xgboost as xgb\n",
    "\n",
    "import requests\n",
    "# from harmonizomeapi import HarmonizomeAPI, Entity # http://amp.pharm.mssm.edu/Harmonizome/documentation\n",
    "\n",
    "# Temporary, Output Filepaths\n",
    "data_root, out_root = '../data/', '../'"
   ]
  },
  {
   "cell_type": "markdown",
   "metadata": {},
   "source": [
    "# 1. Prepare the gene/feature attribute matrices and target class to for supervised machine learning\n",
    "\n",
    "Load known Adhesome components from file"
   ]
  },
  {
   "cell_type": "code",
   "execution_count": 2,
   "metadata": {
    "collapsed": false
   },
   "outputs": [
    {
     "name": "stdout",
     "output_type": "stream",
     "text": [
      "(232, 7)\n"
     ]
    },
    {
     "data": {
      "text/html": [
       "<div>\n",
       "<table border=\"1\" class=\"dataframe\">\n",
       "  <thead>\n",
       "    <tr style=\"text-align: right;\">\n",
       "      <th></th>\n",
       "      <th>Official Symbol</th>\n",
       "      <th>Gene ID</th>\n",
       "      <th>Protein name</th>\n",
       "      <th>Swiss-Prot ID</th>\n",
       "      <th>Synonyms</th>\n",
       "      <th>Functional Category</th>\n",
       "      <th>FA</th>\n",
       "    </tr>\n",
       "  </thead>\n",
       "  <tbody>\n",
       "    <tr>\n",
       "      <th>0</th>\n",
       "      <td>ACTN1</td>\n",
       "      <td>87</td>\n",
       "      <td>Actinin</td>\n",
       "      <td>P12814</td>\n",
       "      <td>alpha-actinin</td>\n",
       "      <td>Actin regulation</td>\n",
       "      <td>Intrinsic Proteins</td>\n",
       "    </tr>\n",
       "    <tr>\n",
       "      <th>1</th>\n",
       "      <td>CFL1</td>\n",
       "      <td>1072</td>\n",
       "      <td>cofilin</td>\n",
       "      <td>P23528</td>\n",
       "      <td>CFL</td>\n",
       "      <td>Actin regulation</td>\n",
       "      <td>Intrinsic Proteins</td>\n",
       "    </tr>\n",
       "    <tr>\n",
       "      <th>2</th>\n",
       "      <td>CORO1B</td>\n",
       "      <td>57175</td>\n",
       "      <td>coronin 1B</td>\n",
       "      <td>Q9BR76</td>\n",
       "      <td>coronin-2</td>\n",
       "      <td>Actin regulation</td>\n",
       "      <td>Intrinsic Proteins</td>\n",
       "    </tr>\n",
       "    <tr>\n",
       "      <th>3</th>\n",
       "      <td>CTTN</td>\n",
       "      <td>2017</td>\n",
       "      <td>Cortactin</td>\n",
       "      <td>Q14247</td>\n",
       "      <td>EMS1, Amplaxin</td>\n",
       "      <td>Actin regulation</td>\n",
       "      <td>Intrinsic Proteins</td>\n",
       "    </tr>\n",
       "    <tr>\n",
       "      <th>4</th>\n",
       "      <td>FLNA</td>\n",
       "      <td>2316</td>\n",
       "      <td>Filamin</td>\n",
       "      <td>P21333</td>\n",
       "      <td>endothelial actin-binding protein, ABP-280, al...</td>\n",
       "      <td>Actin regulation</td>\n",
       "      <td>Intrinsic Proteins</td>\n",
       "    </tr>\n",
       "  </tbody>\n",
       "</table>\n",
       "</div>"
      ],
      "text/plain": [
       "  Official Symbol Gene ID Protein name Swiss-Prot ID  \\\n",
       "0           ACTN1      87      Actinin        P12814   \n",
       "1            CFL1    1072      cofilin        P23528   \n",
       "2          CORO1B   57175   coronin 1B        Q9BR76   \n",
       "3            CTTN    2017    Cortactin        Q14247   \n",
       "4            FLNA    2316      Filamin        P21333   \n",
       "\n",
       "                                            Synonyms Functional Category  \\\n",
       "0                                      alpha-actinin    Actin regulation   \n",
       "1                                                CFL    Actin regulation   \n",
       "2                                          coronin-2    Actin regulation   \n",
       "3                                     EMS1, Amplaxin    Actin regulation   \n",
       "4  endothelial actin-binding protein, ABP-280, al...    Actin regulation   \n",
       "\n",
       "                   FA  \n",
       "0  Intrinsic Proteins  \n",
       "1  Intrinsic Proteins  \n",
       "2  Intrinsic Proteins  \n",
       "3  Intrinsic Proteins  \n",
       "4  Intrinsic Proteins  "
      ]
     },
     "execution_count": 2,
     "metadata": {},
     "output_type": "execute_result"
    }
   ],
   "source": [
    "df_labels = pd.read_csv(requests.get('http://adhesome.org/components.csv').content)\n",
    "print df_labels.shape\n",
    "df_labels.head()"
   ]
  },
  {
   "cell_type": "markdown",
   "metadata": {},
   "source": [
    "These files below were downloaded from [Harmonizome](http://amp.pharm.mssm.edu/Harmonizome/) as the features for genes to predict whether they are adhesome components. \n",
    "\n",
    "There are two types datasets: continues and binary. Continues datasets were standardized.    "
   ]
  },
  {
   "cell_type": "code",
   "execution_count": 3,
   "metadata": {
    "collapsed": false
   },
   "outputs": [],
   "source": [
    "filenames = [\n",
    "        'InterPro_gene_attribute_matrix.txt.gz', \n",
    "        'ENCODE-TF_gene_attribute_matrix.txt.gz',\n",
    "        'CCLE-GE_gene_attribute_matrix_standardized.txt.gz',\n",
    "        'Allen-adult-brain_gene_attribute_matrix_standardized.txt.gz',\n",
    "        'Allen-dev-brain_gene_attribute_matrix_standardized.txt.gz'\n",
    "    ]\n",
    "# TODO\n",
    "# datasets = [\n",
    "#         'InterPro Predicted Protein Domain Annotations',\n",
    "#         'ENCODE Transcription Factor Binding Site Profiles',\n",
    "#         'CCLE Cell Line Gene Expression Profiles',\n",
    "#         'Allen Brain Atlas Adult Human Brain Tissue Gene Expression Profiles',\n",
    "#         'Allen Brain Atlas Developing Human Brain Tissue Gene Expression Profiles by Microarray',\n",
    "#     ]\n",
    "# filenames = []\n",
    "# for dataset in datasets:\n",
    "#     data = HarmonizomeAPI.get(Entity.DATASET, name=dataset,\n",
    "#                               download='gene_attribute_matrix_standardized.txt.gz')\n",
    "#     if data['response'] == '404':\n",
    "#         data = HarmonizomeAPI.get(Entity.DATASET, name=dataset,\n",
    "#                                   download='gene_attribute_matrix.txt.gz')\n",
    "#         if data['response'] == '404':\n",
    "#             continue\n",
    "#     filenames.append(data['filename'])\n",
    "\n",
    "basenames = [f.split('_')[0] for f in filenames]\n",
    "are_continues = ['_standardized' in f for f in filenames]"
   ]
  },
  {
   "cell_type": "code",
   "execution_count": 4,
   "metadata": {
    "collapsed": true
   },
   "outputs": [],
   "source": [
    "def read_gene_attribute_matrix(fn):\n",
    "    '''\n",
    "    Reads a gzipped file downloaded from Harmonizome into a pandas.DataFrame,\n",
    "    with GeneSym as index. \n",
    "    '''\n",
    "    with gzip.open(fn) as f:\n",
    "        reader = csv.reader(f, delimiter='\\t')\n",
    "        header = reader.next()\n",
    "        header[0] = 'GeneSym'\n",
    "        # Skip line 2, 3\n",
    "        reader.next()\n",
    "        reader.next()\n",
    "\n",
    "        # Remove the second and third columns which are meta data for GeneSym\n",
    "        header[1:3] = []\n",
    "\n",
    "        i = 0\n",
    "        df = []\n",
    "\n",
    "        if '_standardized' in fn: # continues\n",
    "            for row in reader:\n",
    "                row[1:3] = []\n",
    "                row[1:] = map(float, row[1:])\n",
    "                df.append(dict(zip(header, row)))\n",
    "                i += 1\n",
    "                if i % 2000 == 0:\n",
    "                    print i\n",
    "            df = pd.DataFrame()\\\n",
    "                .from_records(df, index=['GeneSym'])\\\n",
    "                .to_sparse(fill_value=0)\n",
    "\n",
    "        else: # convert values to int and make sparse df\n",
    "            for row in reader:\n",
    "                row[1:3] = []\n",
    "                row[1:] = [int(float(d)) for d in row[1:]]\n",
    "                df.append(dict(zip(header, row)))\n",
    "                i += 1\n",
    "                if i % 2000 == 0:\n",
    "                    print i\n",
    "            df = pd.DataFrame()\\\n",
    "                .from_records(df, index=['GeneSym'])\\\n",
    "                .to_sparse(fill_value=0)\n",
    "        \n",
    "    return df"
   ]
  },
  {
   "cell_type": "code",
   "execution_count": 5,
   "metadata": {
    "collapsed": false
   },
   "outputs": [
    {
     "name": "stdout",
     "output_type": "stream",
     "text": [
      "2000\n",
      "4000\n",
      "6000\n",
      "8000\n",
      "10000\n",
      "12000\n",
      "14000\n",
      "16000\n",
      "18000\n",
      "InterPro_gene_attribute_matrix.txt.gz (18002, 11015)\n",
      "2000\n",
      "4000\n",
      "6000\n",
      "8000\n",
      "10000\n",
      "12000\n",
      "14000\n",
      "16000\n",
      "18000\n",
      "20000\n",
      "22000\n",
      "ENCODE-TF_gene_attribute_matrix.txt.gz (22845, 1679)\n",
      "2000\n",
      "4000\n",
      "6000\n",
      "8000\n",
      "10000\n",
      "12000\n",
      "14000\n",
      "16000\n",
      "18000\n",
      "CCLE-GE_gene_attribute_matrix_standardized.txt.gz (18046, 1035)\n",
      "2000\n",
      "4000\n",
      "6000\n",
      "8000\n",
      "10000\n",
      "12000\n",
      "14000\n",
      "16000\n",
      "Allen-adult-brain_gene_attribute_matrix_standardized.txt.gz (17979, 414)\n",
      "2000\n",
      "4000\n",
      "6000\n",
      "8000\n",
      "10000\n",
      "12000\n",
      "14000\n",
      "16000\n",
      "Allen-dev-brain_gene_attribute_matrix_standardized.txt.gz (17241, 492)\n"
     ]
    }
   ],
   "source": [
    "## Parse data files downloaded from Harmonizome \n",
    "dfs = []\n",
    "for fn in filenames:\n",
    "    df = read_gene_attribute_matrix(data_root+fn)\n",
    "    print fn, df.shape\n",
    "    dfs.append(df)"
   ]
  },
  {
   "cell_type": "code",
   "execution_count": 6,
   "metadata": {
    "collapsed": false
   },
   "outputs": [
    {
     "name": "stdout",
     "output_type": "stream",
     "text": [
      "(13464, 14635)\n"
     ]
    }
   ],
   "source": [
    "## INNER JOIN all feature dfs \n",
    "df_joined = reduce(lambda a, b: pd.merge(a, b, left_index=True, right_index=True, how='inner'), \n",
    "           dfs)\n",
    "print df_joined.shape"
   ]
  },
  {
   "cell_type": "code",
   "execution_count": 7,
   "metadata": {
    "collapsed": false
   },
   "outputs": [
    {
     "name": "stdout",
     "output_type": "stream",
     "text": [
      "216\n",
      "(13464, 1)\n"
     ]
    },
    {
     "data": {
      "text/html": [
       "<div>\n",
       "<table border=\"1\" class=\"dataframe\">\n",
       "  <thead>\n",
       "    <tr style=\"text-align: right;\">\n",
       "      <th></th>\n",
       "      <th>y</th>\n",
       "    </tr>\n",
       "    <tr>\n",
       "      <th>GeneSym</th>\n",
       "      <th></th>\n",
       "    </tr>\n",
       "  </thead>\n",
       "  <tbody>\n",
       "    <tr>\n",
       "      <th>NUSAP1</th>\n",
       "      <td>0</td>\n",
       "    </tr>\n",
       "    <tr>\n",
       "      <th>WEE1</th>\n",
       "      <td>0</td>\n",
       "    </tr>\n",
       "    <tr>\n",
       "      <th>BUB1B</th>\n",
       "      <td>0</td>\n",
       "    </tr>\n",
       "    <tr>\n",
       "      <th>ASPM</th>\n",
       "      <td>0</td>\n",
       "    </tr>\n",
       "    <tr>\n",
       "      <th>TTK</th>\n",
       "      <td>0</td>\n",
       "    </tr>\n",
       "  </tbody>\n",
       "</table>\n",
       "</div>"
      ],
      "text/plain": [
       "         y\n",
       "GeneSym   \n",
       "NUSAP1   0\n",
       "WEE1     0\n",
       "BUB1B    0\n",
       "ASPM     0\n",
       "TTK      0"
      ]
     },
     "execution_count": 7,
     "metadata": {},
     "output_type": "execute_result"
    }
   ],
   "source": [
    "## Create y \n",
    "RNG = 2016\n",
    "y = np.in1d(df_joined.index, df_labels['Official Symbol']).astype(np.int8)\n",
    "print y.sum()\n",
    "## Make CV\n",
    "cv = StratifiedKFold(y, n_folds=3, shuffle=True, random_state=RNG)\n",
    "## Export y\n",
    "df_labels = pd.DataFrame({'y': y, 'GeneSym': df_joined.index}).set_index('GeneSym')\n",
    "print df_labels.shape\n",
    "df_labels.to_csv(data_root+'Adhesome.csv')\n",
    "df_labels.head()"
   ]
  },
  {
   "cell_type": "code",
   "execution_count": 8,
   "metadata": {
    "collapsed": true
   },
   "outputs": [],
   "source": [
    "## Keep only the shared genes across the 4 datasets\n",
    "dfs = [df.ix[df_joined.index] for df in dfs]"
   ]
  },
  {
   "cell_type": "code",
   "execution_count": 9,
   "metadata": {
    "collapsed": true
   },
   "outputs": [],
   "source": [
    "## Export processed matrices in dfs\n",
    "feature_names = {} # To store feature names\n",
    "i = 0\n",
    "for basename, df in zip(basenames, dfs):\n",
    "    feature_names[basename] = df.columns.tolist()\n",
    "    if are_continues[i]:\n",
    "        np.save(data_root+basename+'_shared', df.values)\n",
    "    else: # sparse matrix\n",
    "        io.mmwrite(data_root+basename+'_shared.mtx', sp.csr_matrix(df.values))\n",
    "    i += 1\n",
    "\n",
    "del df_joined\n",
    "del dfs, df"
   ]
  },
  {
   "cell_type": "markdown",
   "metadata": {},
   "source": [
    "# 2. Load preprocessed matrices and perform classifications"
   ]
  },
  {
   "cell_type": "code",
   "execution_count": 10,
   "metadata": {
    "collapsed": false
   },
   "outputs": [
    {
     "name": "stdout",
     "output_type": "stream",
     "text": [
      "Number of known adhesome components: 216\n",
      "Ratio of negative labels over positive labels: 61.3333\n"
     ]
    }
   ],
   "source": [
    "# Load from matrices files generated above\n",
    "Xs = []\n",
    "for i, basename in enumerate(basenames):\n",
    "    if are_continues[i]:\n",
    "        Xs.append(np.load(data_root+basename+'_shared.npy'))\n",
    "    else:\n",
    "        Xs.append(io.mmread(data_root+basename+'_shared.mtx').tocsr())\n",
    "\n",
    "df_labels = pd.read_csv(data_root+'Adhesome.csv')\n",
    "y = df_labels['y'].values\n",
    "ratio = float(np.sum(y == 0)) / np.sum(y==1)\n",
    "print 'Number of known adhesome components: %d' % y.sum()\n",
    "print 'Ratio of negative labels over positive labels: %.4f' % ratio"
   ]
  },
  {
   "cell_type": "markdown",
   "metadata": {},
   "source": [
    "Perform dimentionality reduction using `TruncatedSVD` for all the matrices"
   ]
  },
  {
   "cell_type": "code",
   "execution_count": 11,
   "metadata": {
    "collapsed": false
   },
   "outputs": [],
   "source": [
    "all_loadings = [] # collect loading matrices from SVD\n",
    "for i, basename in enumerate(basenames):\n",
    "    svd = TruncatedSVD(n_components=60, random_state=RNG)\n",
    "    Xs[i] = svd.fit_transform(Xs[i])\n",
    "    all_loadings.append(svd.components_)\n",
    "\n",
    "X_combined = np.hstack(Xs)"
   ]
  },
  {
   "cell_type": "code",
   "execution_count": 12,
   "metadata": {
    "collapsed": true
   },
   "outputs": [],
   "source": [
    "## Helper functions for evaluating classifiers\n",
    "def cross_val_predictions(est, X, y, cv):\n",
    "    '''to get out-of-sample predictions and scores'''\n",
    "    y_preds = np.zeros(y.shape)\n",
    "    y_probas = np.zeros(y.shape)\n",
    "    for train_idx, valid_idx in cv:\n",
    "        print X[train_idx].shape, y[train_idx].shape\n",
    "        est.fit(X[train_idx], y[train_idx])\n",
    "        y_preds[valid_idx] = est.predict(X[valid_idx])\n",
    "        y_probas[valid_idx] = est.predict_proba(X[valid_idx])[:,1]\n",
    "    return y_preds, y_probas\n",
    "\n",
    "\n",
    "def plot_roc(ests, Xs, y, cv, ax, colors=None, labels=None):\n",
    "    all_labels = []\n",
    "    total = len(labels)\n",
    "\n",
    "    if type(ests) == list and type(Xs) != list:\n",
    "        total = len(ests)\n",
    "        Xs = [Xs]*total\n",
    "    elif type(ests) != list and type(Xs) == list:\n",
    "        ests = [ests]*total\n",
    "    \n",
    "    for i in range(total):\n",
    "        X = Xs[i]\n",
    "        est = ests[i]\n",
    "        \n",
    "        label = labels[i]\n",
    "        color = colors[i]\n",
    "        all_labels.extend([label] * len(cv))\n",
    "\n",
    "        y_preds, y_probas = cross_val_predictions(est, X, y, cv)\n",
    "        fpr, tpr, _ = roc_curve(y, y_probas)\n",
    "        score = auc(fpr, tpr)\n",
    "        ax.plot(fpr, tpr, label=label + ' (AUC=%.3f)' % score, color=color, lw=2)\n",
    "\n",
    "    ax.set_xlabel('False Positive Rate', fontsize=16)\n",
    "    ax.set_ylabel('True Positive Rate', fontsize=16)\n",
    "\n",
    "    enlarge_tick_fontsize(ax, 12)\n",
    "    ax.legend(loc='lower right')\n",
    "    return"
   ]
  },
  {
   "cell_type": "markdown",
   "metadata": {},
   "source": [
    "Estimate the number of rounds of boosting using early stopping for a single feature matrix InterPro: The boosting classifier will stop if the validation score does not improve in 50 rounds."
   ]
  },
  {
   "cell_type": "code",
   "execution_count": 13,
   "metadata": {
    "collapsed": false
   },
   "outputs": [
    {
     "name": "stdout",
     "output_type": "stream",
     "text": [
      "[0]\ttrain-auc:0.819078+0.00896913\ttest-auc:0.754716+0.0113372\n",
      "[10]\ttrain-auc:0.944182+0.00571151\ttest-auc:0.853252+0.0185019\n",
      "[20]\ttrain-auc:0.956034+0.00553511\ttest-auc:0.857527+0.0161496\n",
      "[30]\ttrain-auc:0.961759+0.00447018\ttest-auc:0.856757+0.0163623\n",
      "[40]\ttrain-auc:0.964968+0.00283139\ttest-auc:0.853945+0.0152583\n",
      "[50]\ttrain-auc:0.969493+0.00202225\ttest-auc:0.85548+0.0132331\n",
      "[60]\ttrain-auc:0.972495+0.00229561\ttest-auc:0.858163+0.0117549\n",
      "[70]\ttrain-auc:0.974844+0.00236331\ttest-auc:0.854632+0.0115489\n",
      "    test-auc-mean  test-auc-std  train-auc-mean  train-auc-std\n",
      "19       0.858624      0.015774        0.955314       0.004711\n",
      "20       0.857527      0.016150        0.956034       0.005535\n",
      "21       0.858936      0.015842        0.956524       0.005947\n",
      "22       0.860072      0.015355        0.957875       0.005476\n",
      "23       0.860647      0.014478        0.958389       0.005377\n"
     ]
    }
   ],
   "source": [
    "dtrain = xgb.DMatrix(Xs[0], label=y)\n",
    "\n",
    "param = {\n",
    "    'max_depth':10, 'eta':0.05, 'silent':1, 'objective':'binary:logistic',\n",
    "    'subsample': 0.4, 'colsample_bytree': 0.6,\n",
    "    'min_child_weight': 50,\n",
    "    'scale_pos_weight': ratio,\n",
    "    'nthread': 6\n",
    "}\n",
    "\n",
    "num_round = 5000\n",
    "scores = xgb.cv(param, dtrain, num_round, \n",
    "    folds=cv,\n",
    "    early_stopping_rounds=50,\n",
    "    metrics='auc', seed=RNG,\n",
    "    verbose_eval=10)\n",
    "\n",
    "print scores.tail()\n"
   ]
  },
  {
   "cell_type": "markdown",
   "metadata": {},
   "source": [
    "Estimate the number of rounds of boosting using early stopping for the combined feature matrix."
   ]
  },
  {
   "cell_type": "code",
   "execution_count": 14,
   "metadata": {
    "collapsed": false
   },
   "outputs": [
    {
     "name": "stdout",
     "output_type": "stream",
     "text": [
      "[0]\ttrain-auc:0.792973+0.0248245\ttest-auc:0.653439+0.0498941\n",
      "[10]\ttrain-auc:0.967718+0.000744999\ttest-auc:0.837223+0.0115881\n",
      "[20]\ttrain-auc:0.982213+0.00231581\ttest-auc:0.854458+0.00781185\n",
      "[30]\ttrain-auc:0.989075+0.000723179\ttest-auc:0.860422+0.00706163\n",
      "[40]\ttrain-auc:0.992837+0.000238599\ttest-auc:0.861134+0.0106238\n",
      "[50]\ttrain-auc:0.995449+0.00031224\ttest-auc:0.865086+0.0112055\n",
      "[60]\ttrain-auc:0.996595+0.000288426\ttest-auc:0.864528+0.0104053\n",
      "[70]\ttrain-auc:0.997708+0.000243488\ttest-auc:0.866287+0.0090724\n",
      "[80]\ttrain-auc:0.998522+0.000146727\ttest-auc:0.867463+0.00936827\n",
      "[90]\ttrain-auc:0.999017+9.94027e-05\ttest-auc:0.865591+0.00889278\n",
      "[100]\ttrain-auc:0.999232+0.000113085\ttest-auc:0.867229+0.0093478\n",
      "[110]\ttrain-auc:0.999409+0.000123443\ttest-auc:0.866462+0.0106765\n",
      "[120]\ttrain-auc:0.999586+0.000137421\ttest-auc:0.866448+0.0101588\n",
      "    test-auc-mean  test-auc-std  train-auc-mean  train-auc-std\n",
      "73       0.866663      0.009920        0.997974       0.000306\n",
      "74       0.866215      0.009327        0.998065       0.000339\n",
      "75       0.866849      0.009174        0.998163       0.000289\n",
      "76       0.867265      0.009423        0.998237       0.000279\n",
      "77       0.867756      0.009816        0.998275       0.000227\n"
     ]
    }
   ],
   "source": [
    "dtrain = xgb.DMatrix(X_combined, label=y)\n",
    "\n",
    "param = {\n",
    "    'max_depth':12, 'eta':0.05, 'silent':1, 'objective':'binary:logistic',\n",
    "    'subsample': 0.4, 'colsample_bytree': 0.4,\n",
    "    'min_child_weight': 50,\n",
    "    'scale_pos_weight': ratio,\n",
    "    'nthread': 6\n",
    "}\n",
    "\n",
    "num_round = 5000\n",
    "scores = xgb.cv(param, dtrain, num_round, \n",
    "    folds=cv,\n",
    "    early_stopping_rounds=50,\n",
    "    metrics='auc', seed=RNG,\n",
    "    verbose_eval=10)\n",
    "\n",
    "print scores.tail()\n"
   ]
  },
  {
   "cell_type": "markdown",
   "metadata": {},
   "source": [
    "Plot the ROC curves to evaluate the predictive performance of the GBM classifiers"
   ]
  },
  {
   "cell_type": "code",
   "execution_count": 15,
   "metadata": {
    "collapsed": false
   },
   "outputs": [
    {
     "name": "stdout",
     "output_type": "stream",
     "text": [
      "(8976, 60) (8976,)\n",
      "(8976, 60) (8976,)\n",
      "(8976, 60) (8976,)\n",
      "(8976, 60) (8976,)\n",
      "(8976, 60) (8976,)\n",
      "(8976, 60) (8976,)\n",
      "(8976, 60) (8976,)\n",
      "(8976, 60) (8976,)\n",
      "(8976, 60) (8976,)\n",
      "(8976, 60) (8976,)\n",
      "(8976, 60) (8976,)\n",
      "(8976, 60) (8976,)\n",
      "(8976, 60) (8976,)\n",
      "(8976, 60) (8976,)\n",
      "(8976, 60) (8976,)\n",
      "(8976, 300) (8976,)\n",
      "(8976, 300) (8976,)\n",
      "(8976, 300) (8976,)\n"
     ]
    },
    {
     "data": {
      "image/png": "[encoded data removed]",
      "text/plain": [
       "<matplotlib.figure.Figure at 0x11498b210>"
      ]
     },
     "metadata": {},
     "output_type": "display_data"
    }
   ],
   "source": [
    "Xs.append(X_combined)\n",
    "basenames.append('Combined')\n",
    "\n",
    "# optimized GBM classifiers\n",
    "xgbc = xgb.XGBClassifier(seed=RNG, n_estimators=39, learning_rate=0.05,\n",
    "    max_depth=10, colsample_bytree=0.6, subsample=0.4, min_child_weight=50,\n",
    "    gamma=0, max_delta_step=0, nthread=6, silent=True, scale_pos_weight=ratio)\n",
    "\n",
    "xgbc2 = xgb.XGBClassifier(seed=RNG, n_estimators=159, learning_rate=0.05,\n",
    "    max_depth=12, colsample_bytree=0.4, subsample=0.4, min_child_weight=50,\n",
    "    gamma=0, max_delta_step=0, nthread=6, silent=True, scale_pos_weight=ratio)\n",
    "\n",
    "clfs = [xgbc] * 5 + [xgbc2]\n",
    "\n",
    "fig, ax = plt.subplots(figsize=(6,6))\n",
    "plot_roc(clfs, Xs, y, cv, ax, colors=COLORS10, labels=basenames)"
   ]
  },
  {
   "cell_type": "markdown",
   "metadata": {},
   "source": [
    "# 3. Apply the GBM classifier to all the datasets to generate predictions "
   ]
  },
  {
   "cell_type": "code",
   "execution_count": 16,
   "metadata": {
    "collapsed": false
   },
   "outputs": [
    {
     "name": "stdout",
     "output_type": "stream",
     "text": [
      "(12117, 300) (12117,)\n",
      "(12117, 300) (12117,)\n",
      "(12117, 300) (12117,)\n",
      "(12117, 300) (12117,)\n",
      "(12117, 300) (12117,)\n",
      "(12117, 300) (12117,)\n",
      "(12118, 300) (12118,)\n",
      "(12118, 300) (12118,)\n",
      "(12119, 300) (12119,)\n",
      "(12119, 300) (12119,)\n"
     ]
    }
   ],
   "source": [
    "RNG = 20160628\n",
    "xgbc2 = xgb.XGBClassifier(seed=RNG, n_estimators=160, learning_rate=0.05,\n",
    "    max_depth=12, colsample_bytree=0.4, subsample=0.4, min_child_weight=50,\n",
    "    gamma=0, max_delta_step=0, nthread=8, silent=True, scale_pos_weight=ratio)\n",
    "\n",
    "cv = StratifiedKFold(y, n_folds=10, shuffle=True, random_state=RNG)\n",
    "\n",
    "## Get out-of-fold predictions\n",
    "y_preds, y_probas = cross_val_predictions(xgbc2, X_combined, y, cv)\n",
    "\n",
    "## Get predictions on training fold\n",
    "xgbc2.fit(X_combined, y)\n",
    "y_probas_on_train = xgbc2.predict_proba(X_combined)[:, 1]\n"
   ]
  },
  {
   "cell_type": "code",
   "execution_count": 17,
   "metadata": {
    "collapsed": false
   },
   "outputs": [
    {
     "data": {
      "text/html": [
       "<div>\n",
       "<table border=\"1\" class=\"dataframe\">\n",
       "  <thead>\n",
       "    <tr style=\"text-align: right;\">\n",
       "      <th></th>\n",
       "      <th>GeneSym</th>\n",
       "      <th>y</th>\n",
       "      <th>OOF_preds</th>\n",
       "      <th>OOF_probas</th>\n",
       "      <th>train_probas</th>\n",
       "    </tr>\n",
       "  </thead>\n",
       "  <tbody>\n",
       "    <tr>\n",
       "      <th>0</th>\n",
       "      <td>NUSAP1</td>\n",
       "      <td>0</td>\n",
       "      <td>0.0</td>\n",
       "      <td>0.048701</td>\n",
       "      <td>0.012676</td>\n",
       "    </tr>\n",
       "    <tr>\n",
       "      <th>1</th>\n",
       "      <td>WEE1</td>\n",
       "      <td>0</td>\n",
       "      <td>0.0</td>\n",
       "      <td>0.047994</td>\n",
       "      <td>0.040922</td>\n",
       "    </tr>\n",
       "    <tr>\n",
       "      <th>2</th>\n",
       "      <td>BUB1B</td>\n",
       "      <td>0</td>\n",
       "      <td>0.0</td>\n",
       "      <td>0.012071</td>\n",
       "      <td>0.021857</td>\n",
       "    </tr>\n",
       "    <tr>\n",
       "      <th>3</th>\n",
       "      <td>ASPM</td>\n",
       "      <td>0</td>\n",
       "      <td>0.0</td>\n",
       "      <td>0.073338</td>\n",
       "      <td>0.024251</td>\n",
       "    </tr>\n",
       "    <tr>\n",
       "      <th>4</th>\n",
       "      <td>TTK</td>\n",
       "      <td>0</td>\n",
       "      <td>0.0</td>\n",
       "      <td>0.064439</td>\n",
       "      <td>0.020047</td>\n",
       "    </tr>\n",
       "  </tbody>\n",
       "</table>\n",
       "</div>"
      ],
      "text/plain": [
       "  GeneSym  y  OOF_preds  OOF_probas  train_probas\n",
       "0  NUSAP1  0        0.0    0.048701      0.012676\n",
       "1    WEE1  0        0.0    0.047994      0.040922\n",
       "2   BUB1B  0        0.0    0.012071      0.021857\n",
       "3    ASPM  0        0.0    0.073338      0.024251\n",
       "4     TTK  0        0.0    0.064439      0.020047"
      ]
     },
     "execution_count": 17,
     "metadata": {},
     "output_type": "execute_result"
    }
   ],
   "source": [
    "df_labels['OOF_preds'] = y_preds\n",
    "df_labels['OOF_probas'] = y_probas\n",
    "df_labels['train_probas'] = y_probas_on_train\n",
    "\n",
    "df_labels.head()"
   ]
  },
  {
   "cell_type": "code",
   "execution_count": 18,
   "metadata": {
    "collapsed": true
   },
   "outputs": [],
   "source": [
    "df_labels.to_csv(out_root+'XGB160_on_combined_predictions.csv')"
   ]
  },
  {
   "cell_type": "markdown",
   "metadata": {},
   "source": [
    "# 4. Intepret the classifier by feature importances"
   ]
  },
  {
   "cell_type": "code",
   "execution_count": 19,
   "metadata": {
    "collapsed": false
   },
   "outputs": [
    {
     "name": "stdout",
     "output_type": "stream",
     "text": [
      "(300,)\n"
     ]
    }
   ],
   "source": [
    "## Get the feature_importances_ from the fitted GBM\n",
    "feature_importances = xgbc2.feature_importances_\n",
    "print feature_importances.shape"
   ]
  },
  {
   "cell_type": "code",
   "execution_count": 20,
   "metadata": {
    "collapsed": false
   },
   "outputs": [
    {
     "name": "stdout",
     "output_type": "stream",
     "text": [
      "There are 14635 features across these datasets used for the prediction\n"
     ]
    }
   ],
   "source": [
    "## Count the number of original features\n",
    "n_features = sum(map(len, feature_names.values()))\n",
    "print 'There are %d features across these datasets used for the prediction' % n_features"
   ]
  },
  {
   "cell_type": "markdown",
   "metadata": {},
   "source": [
    "Map feature importances on the SVD components back to original feature space by dot product between the feature importance vector and the loading matrix:"
   ]
  },
  {
   "cell_type": "code",
   "execution_count": 21,
   "metadata": {
    "collapsed": false
   },
   "outputs": [],
   "source": [
    "all_feature_names = []\n",
    "all_feature_fis = []\n",
    "datasets = []\n",
    "for i, basename in enumerate(basenames[:-1]):\n",
    "    fi = feature_importances[i*60:(i+1)*60]\n",
    "    loadings = all_loadings[i]\n",
    "    original_feature_fis = np.dot(fi, loadings)\n",
    "    original_feature_names = feature_names[basename]\n",
    "    \n",
    "    datasets.extend([basename] * len(original_feature_names))\n",
    "    all_feature_fis.extend( original_feature_fis.tolist() )\n",
    "    all_feature_names.extend( original_feature_names )\n",
    "\n",
    "# Create a DataFrame of feature importances\n",
    "df_feature_importances = pd.DataFrame({\n",
    "        'dataset': datasets,\n",
    "        'feature': all_feature_names, \n",
    "        'feature_importance': all_feature_fis})    "
   ]
  },
  {
   "cell_type": "markdown",
   "metadata": {},
   "source": [
    "Examine the most predictive features for adhesome components:"
   ]
  },
  {
   "cell_type": "code",
   "execution_count": 22,
   "metadata": {
    "collapsed": false
   },
   "outputs": [
    {
     "name": "stderr",
     "output_type": "stream",
     "text": [
      "/Users/maayanlab/.pyenv/versions/2.7.11/lib/python2.7/site-packages/ipykernel/__main__.py:1: FutureWarning: sort(columns=....) is deprecated, use sort_values(by=.....)\n",
      "  if __name__ == '__main__':\n"
     ]
    },
    {
     "data": {
      "text/html": [
       "<div>\n",
       "<table border=\"1\" class=\"dataframe\">\n",
       "  <thead>\n",
       "    <tr style=\"text-align: right;\">\n",
       "      <th></th>\n",
       "      <th>dataset</th>\n",
       "      <th>feature</th>\n",
       "      <th>feature_importance</th>\n",
       "    </tr>\n",
       "  </thead>\n",
       "  <tbody>\n",
       "    <tr>\n",
       "      <th>875</th>\n",
       "      <td>InterPro</td>\n",
       "      <td>Armadillo-type fold</td>\n",
       "      <td>0.010381</td>\n",
       "    </tr>\n",
       "    <tr>\n",
       "      <th>4473</th>\n",
       "      <td>InterPro</td>\n",
       "      <td>Immunoglobulin-like fold</td>\n",
       "      <td>0.007555</td>\n",
       "    </tr>\n",
       "    <tr>\n",
       "      <th>7372</th>\n",
       "      <td>InterPro</td>\n",
       "      <td>Protein kinase-like domain</td>\n",
       "      <td>0.007074</td>\n",
       "    </tr>\n",
       "    <tr>\n",
       "      <th>3362</th>\n",
       "      <td>InterPro</td>\n",
       "      <td>Fibronectin type III</td>\n",
       "      <td>0.006753</td>\n",
       "    </tr>\n",
       "    <tr>\n",
       "      <th>874</th>\n",
       "      <td>InterPro</td>\n",
       "      <td>Armadillo-like helical</td>\n",
       "      <td>0.006399</td>\n",
       "    </tr>\n",
       "    <tr>\n",
       "      <th>13746</th>\n",
       "      <td>Allen-adult-brain</td>\n",
       "      <td>Edinger-Westphal nucleus, right</td>\n",
       "      <td>0.006343</td>\n",
       "    </tr>\n",
       "    <tr>\n",
       "      <th>7369</th>\n",
       "      <td>InterPro</td>\n",
       "      <td>Protein kinase domain</td>\n",
       "      <td>0.006104</td>\n",
       "    </tr>\n",
       "    <tr>\n",
       "      <th>2466</th>\n",
       "      <td>InterPro</td>\n",
       "      <td>Death-like domain</td>\n",
       "      <td>0.005935</td>\n",
       "    </tr>\n",
       "    <tr>\n",
       "      <th>10351</th>\n",
       "      <td>InterPro</td>\n",
       "      <td>Ubiquitin-related domain</td>\n",
       "      <td>0.005866</td>\n",
       "    </tr>\n",
       "    <tr>\n",
       "      <th>6930</th>\n",
       "      <td>InterPro</td>\n",
       "      <td>Pleckstrin homology-like domain</td>\n",
       "      <td>0.005526</td>\n",
       "    </tr>\n",
       "    <tr>\n",
       "      <th>1915</th>\n",
       "      <td>InterPro</td>\n",
       "      <td>Concanavalin A-like lectin/glucanase domain</td>\n",
       "      <td>0.004722</td>\n",
       "    </tr>\n",
       "    <tr>\n",
       "      <th>14475</th>\n",
       "      <td>Allen-dev-brain</td>\n",
       "      <td>primary auditory cortex (core)_3 yrs_M_12980</td>\n",
       "      <td>0.004548</td>\n",
       "    </tr>\n",
       "    <tr>\n",
       "      <th>7370</th>\n",
       "      <td>InterPro</td>\n",
       "      <td>Protein kinase, ATP binding site</td>\n",
       "      <td>0.004433</td>\n",
       "    </tr>\n",
       "    <tr>\n",
       "      <th>3016</th>\n",
       "      <td>InterPro</td>\n",
       "      <td>Epidermal growth factor-like domain</td>\n",
       "      <td>0.004299</td>\n",
       "    </tr>\n",
       "    <tr>\n",
       "      <th>7782</th>\n",
       "      <td>InterPro</td>\n",
       "      <td>Pyridoxal phosphate-dependent transferase</td>\n",
       "      <td>0.004265</td>\n",
       "    </tr>\n",
       "    <tr>\n",
       "      <th>8579</th>\n",
       "      <td>InterPro</td>\n",
       "      <td>SH3 domain</td>\n",
       "      <td>0.004240</td>\n",
       "    </tr>\n",
       "    <tr>\n",
       "      <th>7783</th>\n",
       "      <td>InterPro</td>\n",
       "      <td>Pyridoxal phosphate-dependent transferase, maj...</td>\n",
       "      <td>0.004169</td>\n",
       "    </tr>\n",
       "    <tr>\n",
       "      <th>14508</th>\n",
       "      <td>Allen-dev-brain</td>\n",
       "      <td>primary motor cortex (area M1, area 4)_8 yrs_M...</td>\n",
       "      <td>0.004147</td>\n",
       "    </tr>\n",
       "    <tr>\n",
       "      <th>1214</th>\n",
       "      <td>InterPro</td>\n",
       "      <td>C2 domain</td>\n",
       "      <td>0.004043</td>\n",
       "    </tr>\n",
       "    <tr>\n",
       "      <th>8814</th>\n",
       "      <td>InterPro</td>\n",
       "      <td>Serine/threonine-protein kinase, active site</td>\n",
       "      <td>0.003989</td>\n",
       "    </tr>\n",
       "  </tbody>\n",
       "</table>\n",
       "</div>"
      ],
      "text/plain": [
       "                 dataset                                            feature  \\\n",
       "875             InterPro                                Armadillo-type fold   \n",
       "4473            InterPro                           Immunoglobulin-like fold   \n",
       "7372            InterPro                         Protein kinase-like domain   \n",
       "3362            InterPro                               Fibronectin type III   \n",
       "874             InterPro                             Armadillo-like helical   \n",
       "13746  Allen-adult-brain                    Edinger-Westphal nucleus, right   \n",
       "7369            InterPro                              Protein kinase domain   \n",
       "2466            InterPro                                  Death-like domain   \n",
       "10351           InterPro                           Ubiquitin-related domain   \n",
       "6930            InterPro                    Pleckstrin homology-like domain   \n",
       "1915            InterPro        Concanavalin A-like lectin/glucanase domain   \n",
       "14475    Allen-dev-brain       primary auditory cortex (core)_3 yrs_M_12980   \n",
       "7370            InterPro                   Protein kinase, ATP binding site   \n",
       "3016            InterPro                Epidermal growth factor-like domain   \n",
       "7782            InterPro          Pyridoxal phosphate-dependent transferase   \n",
       "8579            InterPro                                         SH3 domain   \n",
       "7783            InterPro  Pyridoxal phosphate-dependent transferase, maj...   \n",
       "14508    Allen-dev-brain  primary motor cortex (area M1, area 4)_8 yrs_M...   \n",
       "1214            InterPro                                          C2 domain   \n",
       "8814            InterPro       Serine/threonine-protein kinase, active site   \n",
       "\n",
       "       feature_importance  \n",
       "875              0.010381  \n",
       "4473             0.007555  \n",
       "7372             0.007074  \n",
       "3362             0.006753  \n",
       "874              0.006399  \n",
       "13746            0.006343  \n",
       "7369             0.006104  \n",
       "2466             0.005935  \n",
       "10351            0.005866  \n",
       "6930             0.005526  \n",
       "1915             0.004722  \n",
       "14475            0.004548  \n",
       "7370             0.004433  \n",
       "3016             0.004299  \n",
       "7782             0.004265  \n",
       "8579             0.004240  \n",
       "7783             0.004169  \n",
       "14508            0.004147  \n",
       "1214             0.004043  \n",
       "8814             0.003989  "
      ]
     },
     "execution_count": 22,
     "metadata": {},
     "output_type": "execute_result"
    }
   ],
   "source": [
    "df_feature_importances.sort('feature_importance', ascending=False).head(20)"
   ]
  },
  {
   "cell_type": "code",
   "execution_count": 23,
   "metadata": {
    "collapsed": true
   },
   "outputs": [],
   "source": [
    "df_feature_importances.to_csv(out_root+'feature_importances.csv')"
   ]
  }
 ],
 "metadata": {
  "kernelspec": {
   "display_name": "Python 2",
   "language": "python",
   "name": "python2"
  },
  "language_info": {
   "codemirror_mode": {
    "name": "ipython",
    "version": 2
   },
   "file_extension": ".py",
   "mimetype": "text/x-python",
   "name": "python",
   "nbconvert_exporter": "python",
   "pygments_lexer": "ipython2",
   "version": "2.7.11"
  }
 },
 "nbformat": 4,
 "nbformat_minor": 0
}
